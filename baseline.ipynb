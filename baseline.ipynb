{
 "cells": [
  {
   "cell_type": "code",
   "execution_count": 11,
   "metadata": {},
   "outputs": [],
   "source": [
    "%load_ext autoreload\n",
    "%autoreload 2"
   ]
  },
  {
   "cell_type": "code",
   "execution_count": 3,
   "metadata": {},
   "outputs": [],
   "source": [
    "def generate_prompt(checklist, item_idx):\n",
    "        prompt = f'You are the assistant to a patent attorney. Your are given a checklist item, and your job is to determine whether the section on \"power processing system\" adheres to the given checklist item or not. If it does, point to the place in the paragraph where it does. If it does not, brainstorm ideas on how to add to the paragraph to make it so. \\n ### CHECKLIST ITEM: {checklist[item_idx]}'\n",
    "\n",
    "        return prompt"
   ]
  },
  {
   "cell_type": "code",
   "execution_count": 4,
   "metadata": {},
   "outputs": [],
   "source": [
    "checklist = [\n",
    "    \"\"\"**Introduces of Element(s) or Step(s)**\n",
    "    - Clearly introduce the main element or step being described.\n",
    "    - E.g., 'Receiving a measurement set S100', 'The emitter array 100'\"\"\",\n",
    "    \"\"\"**Talks about the Primary Function**\n",
    "    - Describe the primary function or purpose of the introduced element/step.\n",
    "    - E.g., \"functions to obtain information\", 'functions to emit (e.g., eject, release, disperse, etc.) working material.'\"\"\",\n",
    "    \"\"\"**Talks about the preferred configuration/variant**\n",
    "    - Indicate a preferred configuration or variant of the element or step.\n",
    "    - E.g., 'The measurement set preferably includes', 'The emitter array preferably includes'\"\"\",\n",
    "    \"\"\"**Talks about alternative configurations**\n",
    "    - Mention alternatives or other configurations/variations of the element or step.\n",
    "    - E.g., 'but can alternatively include', 'but can include a single emitter'\"\"\",\n",
    "    \"\"\"**Talks about specifics, details or examples**\n",
    "    - Dive into specifics, finer details, or illustrative examples of the element or step.\n",
    "    - E.g., 'e.g., an image, a video', 'via a manifold, propellant management device, etc.'\"\"\",\n",
    "    \"\"\"**Talks about optional features or steps**\n",
    "    - Discuss optional features, steps, or characteristics that can be added or considered.\n",
    "    - E.g., 'S100 can optionally include determining metadata', 'The emitter array is preferably in fluid communication with a reservoir 180'\"\"\",\n",
    "    \"\"\"**Talks about additional components or sub-elements**\n",
    "    - If applicable, talk about related components or sub-elements that interact with or relate to the main element/step.\n",
    "    - E.g., 'The metadata is preferably determined by and received from the source sensor system', 'The emitter array is preferably aligned to an electrode'\"\"\",\n",
    "    \"\"\"**Talks about specific values or ranges**\n",
    "    - If applicable, provide specific values, measurements, or ranges associated with the element/step.\n",
    "    - E.g., 'spacing between the tip of the emitter array is preferably between about 0 and 1000 µm', 'e.g., 0—50 µm, 10—50µm, 20—60 µm'\"\"\",\n",
    "    \"\"\"**Talks about elaborate variants or special cases**\n",
    "    - Mention any special cases, elaborative variants, or exceptions.\n",
    "    - E.g., 'In the latter variant, the method can optionally crop, resize, infill', 'In some variants (e.g., for a curved emitter array such as emitters on a curved substrate; for a curved electrode such as an electrode with a concave, convex, serpentine, etc. surface; for emitter arrays that include emitters with varying heights, etc.)'\"\"\",\n",
    "    \"\"\"**Talks about the broad application or general notes**\n",
    "    - Indicate the broader scope or general remarks to allow flexibility in interpretation.\n",
    "    - E.g., 'and/or any other suitable measurement', 'and/or other working fluid source', 'and/or the emitter array and electrode(s) can have any suitable separation.'\"\"\"\n",
    "]"
   ]
  },
  {
   "cell_type": "code",
   "execution_count": 7,
   "metadata": {},
   "outputs": [
    {
     "name": "stdout",
     "output_type": "stream",
     "text": [
      "2023-10-07 15:05:06 INFO [logger.py:53] Logging to /Users/lynakim/projects/agi-hack-lightbulbml/experiments/sandbox/20231007-1696716306/default.log\n"
     ]
    }
   ],
   "source": [
    "from llama_index import VectorStoreIndex, SimpleDirectoryReader, ServiceContext\n",
    "import openai\n",
    "import os\n",
    "from llama_index.llms import OpenAI\n",
    "from logger import Logger\n",
    "\n",
    "logger = Logger()\n",
    "logger.init_experiment()"
   ]
  },
  {
   "cell_type": "code",
   "execution_count": 8,
   "metadata": {},
   "outputs": [
    {
     "name": "stderr",
     "output_type": "stream",
     "text": [
      "Parsing documents into nodes:   0%|          | 0/1 [00:00<?, ?it/s]"
     ]
    },
    {
     "name": "stderr",
     "output_type": "stream",
     "text": [
      "Parsing documents into nodes: 100%|██████████| 1/1 [00:00<00:00, 37.59it/s]\n",
      "Generating embeddings: 100%|██████████| 7/7 [00:01<00:00,  5.64it/s]\n"
     ]
    }
   ],
   "source": [
    "openai.api_key = os.environ[\"OPENAI_API_KEY\"]\n",
    "llm = OpenAI(model=\"gpt-3.5-turbo\", temperature=0, max_tokens=1028)\n",
    "\n",
    "dir_path = 'data/'\n",
    "documents = SimpleDirectoryReader(dir_path).load_data()\n",
    "service_context = ServiceContext.from_defaults(llm=llm)\n",
    "index = VectorStoreIndex.from_documents(documents, show_progress=True, service_context=service_context)\n",
    "query_engine = index.as_query_engine(accumulate=True)\n"
   ]
  },
  {
   "cell_type": "code",
   "execution_count": 12,
   "metadata": {},
   "outputs": [
    {
     "ename": "TypeError",
     "evalue": "Logger.save_to_file() got an unexpected keyword argument 'file_name'",
     "output_type": "error",
     "traceback": [
      "\u001b[0;31m---------------------------------------------------------------------------\u001b[0m",
      "\u001b[0;31mTypeError\u001b[0m                                 Traceback (most recent call last)",
      "\u001b[1;32m/Users/lynakim/projects/agi-hack-lightbulbml/baseline.ipynb Cell 6\u001b[0m line \u001b[0;36m6\n\u001b[1;32m      <a href='vscode-notebook-cell:/Users/lynakim/projects/agi-hack-lightbulbml/baseline.ipynb#W1sZmlsZQ%3D%3D?line=2'>3</a>\u001b[0m     prompt \u001b[39m=\u001b[39m generate_prompt(checklist, i)\n\u001b[1;32m      <a href='vscode-notebook-cell:/Users/lynakim/projects/agi-hack-lightbulbml/baseline.ipynb#W1sZmlsZQ%3D%3D?line=3'>4</a>\u001b[0m     responses\u001b[39m.\u001b[39mappend(query_engine\u001b[39m.\u001b[39mquery(prompt))\n\u001b[0;32m----> <a href='vscode-notebook-cell:/Users/lynakim/projects/agi-hack-lightbulbml/baseline.ipynb#W1sZmlsZQ%3D%3D?line=5'>6</a>\u001b[0m logger\u001b[39m.\u001b[39;49msave_to_file(responses, file_name\u001b[39m=\u001b[39;49m\u001b[39m'\u001b[39;49m\u001b[39mbaseline_responses.txt\u001b[39;49m\u001b[39m'\u001b[39;49m)\n",
      "\u001b[0;31mTypeError\u001b[0m: Logger.save_to_file() got an unexpected keyword argument 'file_name'"
     ]
    }
   ],
   "source": [
    "prompts = []\n",
    "responses = []\n",
    "for i in range(len(checklist)):\n",
    "    prompt = generate_prompt(checklist, i)\n",
    "    prompts.append(prompt)\n",
    "    responses.append(query_engine.query(prompt))\n",
    "\n",
    "logger.save_to_file(responses, file_name='baseline_responses.txt')\n"
   ]
  },
  {
   "cell_type": "code",
   "execution_count": 18,
   "metadata": {},
   "outputs": [],
   "source": [
    "with open('baseline_responses.txt', 'w') as f:\n",
    "    for response in responses:\n",
    "        f.write(str(response) + '\\n\\n')\n"
   ]
  },
  {
   "cell_type": "code",
   "execution_count": null,
   "metadata": {},
   "outputs": [],
   "source": []
  }
 ],
 "metadata": {
  "kernelspec": {
   "display_name": "patentai",
   "language": "python",
   "name": "python3"
  },
  "language_info": {
   "codemirror_mode": {
    "name": "ipython",
    "version": 3
   },
   "file_extension": ".py",
   "mimetype": "text/x-python",
   "name": "python",
   "nbconvert_exporter": "python",
   "pygments_lexer": "ipython3",
   "version": "3.11.3"
  },
  "orig_nbformat": 4
 },
 "nbformat": 4,
 "nbformat_minor": 2
}
