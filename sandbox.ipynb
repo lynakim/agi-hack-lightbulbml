{
 "cells": [
  {
   "cell_type": "code",
   "execution_count": 9,
   "metadata": {},
   "outputs": [],
   "source": [
    "import os\n",
    "import openai\n",
    "import logging\n",
    "import sys\n",
    "\n",
    "from llama_index import (\n",
    "    VectorStoreIndex,\n",
    "    SimpleKeywordTableIndex,\n",
    "    SimpleDirectoryReader,\n",
    "    LLMPredictor,\n",
    "    ServiceContext,\n",
    ")\n",
    "from llama_index.vector_stores import PineconeVectorStore\n",
    "from llama_index.llms import OpenAI\n",
    "from llama_index.storage.storage_context import StorageContext\n",
    "\n",
    "\n",
    "import pinecone"
   ]
  },
  {
   "cell_type": "code",
   "execution_count": 13,
   "metadata": {},
   "outputs": [
    {
     "ename": "KeyError",
     "evalue": "'PINECONE_API_KEY'",
     "output_type": "error",
     "traceback": [
      "\u001b[0;31m---------------------------------------------------------------------------\u001b[0m",
      "\u001b[0;31mKeyError\u001b[0m                                  Traceback (most recent call last)",
      "\u001b[1;32m/Users/lynakim/projects/agi-hack-lightbulbml/sandbox.ipynb Cell 2\u001b[0m line \u001b[0;36m2\n\u001b[1;32m      <a href='vscode-notebook-cell:/Users/lynakim/projects/agi-hack-lightbulbml/sandbox.ipynb#W1sZmlsZQ%3D%3D?line=0'>1</a>\u001b[0m openai\u001b[39m.\u001b[39mapi_key \u001b[39m=\u001b[39m os\u001b[39m.\u001b[39menviron[\u001b[39m\"\u001b[39m\u001b[39mOPENAI_API_KEY\u001b[39m\u001b[39m\"\u001b[39m]\n\u001b[0;32m----> <a href='vscode-notebook-cell:/Users/lynakim/projects/agi-hack-lightbulbml/sandbox.ipynb#W1sZmlsZQ%3D%3D?line=1'>2</a>\u001b[0m os\u001b[39m.\u001b[39menviron[\u001b[39m\"\u001b[39m\u001b[39mPINECONE_API_KEY\u001b[39m\u001b[39m\"\u001b[39m] \u001b[39m=\u001b[39m os\u001b[39m.\u001b[39;49menviron[\u001b[39m\"\u001b[39;49m\u001b[39mPINECONE_API_KEY\u001b[39;49m\u001b[39m\"\u001b[39;49m]\n",
      "File \u001b[0;32m<frozen os>:679\u001b[0m, in \u001b[0;36m__getitem__\u001b[0;34m(self, key)\u001b[0m\n",
      "\u001b[0;31mKeyError\u001b[0m: 'PINECONE_API_KEY'"
     ]
    }
   ],
   "source": [
    "openai.api_key = os.environ[\"OPENAI_API_KEY\"]\n"
   ]
  },
  {
   "cell_type": "code",
   "execution_count": 4,
   "metadata": {},
   "outputs": [],
   "source": [
    "logging.basicConfig(stream=sys.stdout, level=logging.INFO)\n",
    "logging.getLogger().addHandler(logging.StreamHandler(stream=sys.stdout))"
   ]
  },
  {
   "cell_type": "code",
   "execution_count": 8,
   "metadata": {},
   "outputs": [],
   "source": [
    "llm = OpenAI(temperature=0, model=\"gpt-3.5-turbo\")\n",
    "service_context = ServiceContext.from_defaults(llm=llm)"
   ]
  },
  {
   "cell_type": "code",
   "execution_count": 7,
   "metadata": {},
   "outputs": [],
   "source": [
    "environment = \"eu-west1-gcp\"\n",
    "index_name = \"quickstart\""
   ]
  },
  {
   "cell_type": "code",
   "execution_count": 10,
   "metadata": {},
   "outputs": [
    {
     "ename": "ValueError",
     "evalue": "Must specify PINECONE_API_KEY via env variable if not directly passing in client.",
     "output_type": "error",
     "traceback": [
      "\u001b[0;31m---------------------------------------------------------------------------\u001b[0m",
      "\u001b[0;31mValueError\u001b[0m                                Traceback (most recent call last)",
      "\u001b[1;32m/Users/lynakim/projects/agi-hack-lightbulbml/sandbox.ipynb Cell 6\u001b[0m line \u001b[0;36m1\n\u001b[0;32m----> <a href='vscode-notebook-cell:/Users/lynakim/projects/agi-hack-lightbulbml/sandbox.ipynb#W5sZmlsZQ%3D%3D?line=0'>1</a>\u001b[0m vector_store \u001b[39m=\u001b[39m PineconeVectorStore(\n\u001b[1;32m      <a href='vscode-notebook-cell:/Users/lynakim/projects/agi-hack-lightbulbml/sandbox.ipynb#W5sZmlsZQ%3D%3D?line=1'>2</a>\u001b[0m     index_name\u001b[39m=\u001b[39;49mindex_name,\n\u001b[1;32m      <a href='vscode-notebook-cell:/Users/lynakim/projects/agi-hack-lightbulbml/sandbox.ipynb#W5sZmlsZQ%3D%3D?line=2'>3</a>\u001b[0m     environment\u001b[39m=\u001b[39;49menvironment\n\u001b[1;32m      <a href='vscode-notebook-cell:/Users/lynakim/projects/agi-hack-lightbulbml/sandbox.ipynb#W5sZmlsZQ%3D%3D?line=3'>4</a>\u001b[0m )\n",
      "File \u001b[0;32m~/miniconda3/envs/patentai/lib/python3.11/site-packages/llama_index/vector_stores/pinecone.py:152\u001b[0m, in \u001b[0;36mPineconeVectorStore.__init__\u001b[0;34m(self, pinecone_index, index_name, environment, namespace, insert_kwargs, add_sparse_vector, tokenizer, text_key, batch_size, **kwargs)\u001b[0m\n\u001b[1;32m    150\u001b[0m \u001b[39melse\u001b[39;00m:\n\u001b[1;32m    151\u001b[0m     \u001b[39mif\u001b[39;00m \u001b[39m\"\u001b[39m\u001b[39mPINECONE_API_KEY\u001b[39m\u001b[39m\"\u001b[39m \u001b[39mnot\u001b[39;00m \u001b[39min\u001b[39;00m os\u001b[39m.\u001b[39menviron:\n\u001b[0;32m--> 152\u001b[0m         \u001b[39mraise\u001b[39;00m \u001b[39mValueError\u001b[39;00m(\n\u001b[1;32m    153\u001b[0m             \u001b[39m\"\u001b[39m\u001b[39mMust specify PINECONE_API_KEY via env variable \u001b[39m\u001b[39m\"\u001b[39m\n\u001b[1;32m    154\u001b[0m             \u001b[39m\"\u001b[39m\u001b[39mif not directly passing in client.\u001b[39m\u001b[39m\"\u001b[39m\n\u001b[1;32m    155\u001b[0m         )\n\u001b[1;32m    156\u001b[0m     \u001b[39mif\u001b[39;00m index_name \u001b[39mis\u001b[39;00m \u001b[39mNone\u001b[39;00m \u001b[39mor\u001b[39;00m environment \u001b[39mis\u001b[39;00m \u001b[39mNone\u001b[39;00m:\n\u001b[1;32m    157\u001b[0m         \u001b[39mraise\u001b[39;00m \u001b[39mValueError\u001b[39;00m(\n\u001b[1;32m    158\u001b[0m             \u001b[39m\"\u001b[39m\u001b[39mMust specify index_name and environment \u001b[39m\u001b[39m\"\u001b[39m\n\u001b[1;32m    159\u001b[0m             \u001b[39m\"\u001b[39m\u001b[39mif not directly passing in client.\u001b[39m\u001b[39m\"\u001b[39m\n\u001b[1;32m    160\u001b[0m         )\n",
      "\u001b[0;31mValueError\u001b[0m: Must specify PINECONE_API_KEY via env variable if not directly passing in client."
     ]
    }
   ],
   "source": [
    "vector_store = PineconeVectorStore(\n",
    "    index_name=index_name,\n",
    "    environment=environment\n",
    ")"
   ]
  },
  {
   "cell_type": "code",
   "execution_count": null,
   "metadata": {},
   "outputs": [],
   "source": []
  }
 ],
 "metadata": {
  "kernelspec": {
   "display_name": "patentai",
   "language": "python",
   "name": "python3"
  },
  "language_info": {
   "codemirror_mode": {
    "name": "ipython",
    "version": 3
   },
   "file_extension": ".py",
   "mimetype": "text/x-python",
   "name": "python",
   "nbconvert_exporter": "python",
   "pygments_lexer": "ipython3",
   "version": "3.11.3"
  },
  "orig_nbformat": 4
 },
 "nbformat": 4,
 "nbformat_minor": 2
}
